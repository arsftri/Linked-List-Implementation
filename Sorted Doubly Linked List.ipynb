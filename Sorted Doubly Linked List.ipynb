{
 "cells": [
  {
   "cell_type": "code",
   "execution_count": 4,
   "id": "bdbd6301",
   "metadata": {},
   "outputs": [],
   "source": [
    "class DListNode:\n",
    "    def __init__(self,item):\n",
    "        self.data=item\n",
    "        self.next=None\n",
    "        self.prev=None"
   ]
  },
  {
   "cell_type": "code",
   "execution_count": 5,
   "id": "a598fe2a",
   "metadata": {},
   "outputs": [],
   "source": [
    "class SortedDoublyLinkedList:\n",
    "    def __init__(self):\n",
    "        self.size=0\n",
    "        self.head=None\n",
    "        self.tail=None\n",
    "        \n",
    "    def isEmpty(self):\n",
    "        return self.head is None\n",
    "    \n",
    "    def __len__(self):\n",
    "        return self.size\n",
    "    \n",
    "    def insert(self,value):\n",
    "        curNode=self.head\n",
    "        while curNode is not None and value > curNode.data:\n",
    "            curNode=curNode.next\n",
    "        newNode = DListNode(value)\n",
    "        if self.isEmpty():\n",
    "            self.head=newNode\n",
    "            self.tail=newNode\n",
    "        elif curNode is self.head:\n",
    "            newNode.next=self.head\n",
    "            self.head.prev=newNode\n",
    "            self.head=newNode\n",
    "        elif curNode is None:\n",
    "            newNode.prev=self.tail\n",
    "            self.tail.next=newNode\n",
    "            self.tail=newNode\n",
    "        else:\n",
    "            newNode.next=curNode\n",
    "            newNode.prev=curNode.prev\n",
    "            curNode.prev.next=newNode\n",
    "            curNode.prev=newNode\n",
    "        self.size+=1\n",
    "        \n",
    "    def traversal_head(self):\n",
    "        curNode=self.head\n",
    "        while curNode is not None:\n",
    "            print(curNode.data)\n",
    "            curNode = curNode.next\n",
    "            \n",
    "    def traversal_tail(self):\n",
    "        curNode=self.tail\n",
    "        while curNode is not None:\n",
    "            print(curNode.data)\n",
    "            curNode=curNode.prev\n",
    "            \n",
    "    def search(self,target):\n",
    "        curNode=self.head\n",
    "        while curNode is not None and  curNode.data < target:\n",
    "            curNode=curNode.next\n",
    "        if curNode is not None:\n",
    "            return curNode.data == target\n",
    "        else:\n",
    "            return False\n",
    "\n",
    "    def remove(self, data):\n",
    "        curNode = self.head\n",
    "\n",
    "        while curNode:\n",
    "            if curNode.data == data:\n",
    "                if curNode.prev:\n",
    "                    curNode.prev.next = curNode.next\n",
    "                else:\n",
    "                    self.head = curNode.next\n",
    "                \n",
    "                if curNode.next:\n",
    "                    curNode.next.prev = curNode.prev\n",
    "                return  # Data found and removed, exit the method\n",
    "\n",
    "            curNode = curNode.next"
   ]
  },
  {
   "cell_type": "code",
   "execution_count": 6,
   "id": "a5ee0ed2",
   "metadata": {},
   "outputs": [],
   "source": [
    "#untuk menciptakan dll\n",
    "dll=SortedDoublyLinkedList()"
   ]
  },
  {
   "cell_type": "code",
   "execution_count": 7,
   "id": "9e9a084d",
   "metadata": {},
   "outputs": [
    {
     "data": {
      "text/plain": [
       "True"
      ]
     },
     "execution_count": 7,
     "metadata": {},
     "output_type": "execute_result"
    }
   ],
   "source": [
    "dll.isEmpty()"
   ]
  },
  {
   "cell_type": "code",
   "execution_count": 8,
   "id": "b75f0cba",
   "metadata": {},
   "outputs": [
    {
     "data": {
      "text/plain": [
       "0"
      ]
     },
     "execution_count": 8,
     "metadata": {},
     "output_type": "execute_result"
    }
   ],
   "source": [
    "len(dll)"
   ]
  },
  {
   "cell_type": "code",
   "execution_count": 9,
   "id": "1db0530e",
   "metadata": {},
   "outputs": [],
   "source": [
    "#insert(data)\n",
    "dll.insert(23)\n",
    "dll.insert(13)\n",
    "dll.insert(3)\n",
    "dll.insert(17)"
   ]
  },
  {
   "cell_type": "code",
   "execution_count": 11,
   "id": "1a08c0f2",
   "metadata": {},
   "outputs": [
    {
     "name": "stdout",
     "output_type": "stream",
     "text": [
      "3\n",
      "13\n",
      "17\n",
      "23\n"
     ]
    }
   ],
   "source": [
    "dll.traversal_head()"
   ]
  },
  {
   "cell_type": "code",
   "execution_count": 12,
   "id": "2be85b2a",
   "metadata": {},
   "outputs": [
    {
     "name": "stdout",
     "output_type": "stream",
     "text": [
      "23\n",
      "17\n",
      "13\n",
      "3\n"
     ]
    }
   ],
   "source": [
    "dll.traversal_tail()"
   ]
  },
  {
   "cell_type": "code",
   "execution_count": 13,
   "id": "6f267a73",
   "metadata": {},
   "outputs": [],
   "source": [
    "#remove(data)\n",
    "dll.remove(3)"
   ]
  },
  {
   "cell_type": "code",
   "execution_count": 14,
   "id": "f4cf22e7",
   "metadata": {},
   "outputs": [
    {
     "name": "stdout",
     "output_type": "stream",
     "text": [
      "13\n",
      "17\n",
      "23\n"
     ]
    }
   ],
   "source": [
    "dll.traversal_head()"
   ]
  },
  {
   "cell_type": "code",
   "execution_count": 15,
   "id": "6fe10963",
   "metadata": {},
   "outputs": [
    {
     "name": "stdout",
     "output_type": "stream",
     "text": [
      "23\n",
      "17\n",
      "13\n"
     ]
    }
   ],
   "source": [
    "dll.traversal_tail()"
   ]
  },
  {
   "cell_type": "code",
   "execution_count": 16,
   "id": "528eab14",
   "metadata": {},
   "outputs": [],
   "source": [
    "#insert(data) setelah remove\n",
    "dll.insert(27)"
   ]
  },
  {
   "cell_type": "code",
   "execution_count": 17,
   "id": "acdbb8ff",
   "metadata": {},
   "outputs": [
    {
     "name": "stdout",
     "output_type": "stream",
     "text": [
      "13\n",
      "17\n",
      "23\n",
      "27\n"
     ]
    }
   ],
   "source": [
    "dll.traversal_head()"
   ]
  },
  {
   "cell_type": "code",
   "execution_count": 18,
   "id": "e3ada805",
   "metadata": {},
   "outputs": [
    {
     "name": "stdout",
     "output_type": "stream",
     "text": [
      "27\n",
      "23\n",
      "17\n",
      "13\n"
     ]
    }
   ],
   "source": [
    "dll.traversal_tail()"
   ]
  },
  {
   "cell_type": "code",
   "execution_count": 19,
   "id": "206cca04",
   "metadata": {},
   "outputs": [],
   "source": [
    "dll.insert(5)"
   ]
  },
  {
   "cell_type": "code",
   "execution_count": 21,
   "id": "de2d90c0",
   "metadata": {},
   "outputs": [
    {
     "name": "stdout",
     "output_type": "stream",
     "text": [
      "5\n",
      "13\n",
      "17\n",
      "23\n",
      "27\n"
     ]
    }
   ],
   "source": [
    "dll.traversal_head()"
   ]
  },
  {
   "cell_type": "code",
   "execution_count": 22,
   "id": "956eec81",
   "metadata": {},
   "outputs": [
    {
     "name": "stdout",
     "output_type": "stream",
     "text": [
      "27\n",
      "23\n",
      "17\n",
      "13\n",
      "5\n"
     ]
    }
   ],
   "source": [
    "dll.traversal_tail()"
   ]
  }
 ],
 "metadata": {
  "kernelspec": {
   "display_name": "Python 3 (ipykernel)",
   "language": "python",
   "name": "python3"
  },
  "language_info": {
   "codemirror_mode": {
    "name": "ipython",
    "version": 3
   },
   "file_extension": ".py",
   "mimetype": "text/x-python",
   "name": "python",
   "nbconvert_exporter": "python",
   "pygments_lexer": "ipython3",
   "version": "3.11.5"
  }
 },
 "nbformat": 4,
 "nbformat_minor": 5
}
