{
 "cells": [
  {
   "cell_type": "code",
   "execution_count": 41,
   "id": "21ccf353",
   "metadata": {},
   "outputs": [],
   "source": [
    "class ListNode:\n",
    "    def __init__(self, item):\n",
    "        self.data = item\n",
    "        self.next = None"
   ]
  },
  {
   "cell_type": "code",
   "execution_count": 42,
   "id": "94ab0800",
   "metadata": {},
   "outputs": [],
   "source": [
    "class SinglyLinkedList:\n",
    "    def __init__(self):\n",
    "        self.head = None\n",
    "        self.size = 0\n",
    "\n",
    "    def isEmpty(self):\n",
    "        if self.head==None:\n",
    "            return True\n",
    "        else:\n",
    "            return False\n",
    "        \n",
    "    def prepend(self,item):\n",
    "        newNode=ListNode(item)\n",
    "        newNode.next=self.head\n",
    "        self.head=newNode\n",
    "        self.size+=1\n",
    "\n",
    "    def traversal(self):\n",
    "        curNode=self.head\n",
    "        while curNode is not None:\n",
    "            print(curNode.data)\n",
    "            curNode=curNode.next\n",
    "\n",
    "    def search(self,target):\n",
    "        curNode=head\n",
    "        while curNode is not None and curNode.data!=target:\n",
    "            curnode=curNode.next\n",
    "        return curNode is not None\n",
    "    \n",
    "    def remove(self,target):\n",
    "        prevNode=None\n",
    "        curNode=self.head\n",
    "        while curNode is not None and curNode.data!=target:\n",
    "            prevNode=curNode\n",
    "            curNode=curNode.next\n",
    "        if curNode is not None:\n",
    "            if curNode is self.head:\n",
    "                self.head=curNode.next\n",
    "            else:\n",
    "                prevNode.next=curNode.next\n",
    "            self.size-=1  \n",
    "\n",
    "    def remove_index(self,i):\n",
    "        if self.isEmpty():\n",
    "            return None\n",
    "        elif i==0:\n",
    "            curNode=self.head\n",
    "            self.head=self.head.next            \n",
    "        elif i>0 and i<self.size:\n",
    "            j=1\n",
    "            prevNode=self.head\n",
    "            curNode=prevNode.next\n",
    "            while j!=i:\n",
    "                j+=1\n",
    "                prevNode=curNode\n",
    "                curNode=prevNode.next\n",
    "            prevNode.next=curNode.next\n",
    "        else:\n",
    "            return None\n",
    "        item= curNode.data     \n",
    "        self.size-=1\n",
    "        return item\n",
    "    \n",
    "    def insert(self,i,item):\n",
    "        if i==0:\n",
    "            self.prepend(item)\n",
    "        elif i>0 and i<self.size:\n",
    "            j=1\n",
    "            curNode=self.head\n",
    "            while j!=i:\n",
    "                j+=1\n",
    "                curNode=curNode.next\n",
    "            newNode=ListNode(item)\n",
    "            newNode.next=curNode.next\n",
    "            curNode.next=newNode\n",
    "            self.size+=1\n",
    "\n",
    "    def append(self,item):\n",
    "        curNode=self.head\n",
    "        while curNode is not None:\n",
    "            prevNode=curNode\n",
    "            curNode=curNode.next\n",
    "        if self.head is None:\n",
    "            self.head=ListNode(item)\n",
    "        else:\n",
    "            prevNode.next=ListNode(item)\n",
    "        self.size+=1\n",
    "\n",
    "    def get_item(self,i):\n",
    "        if self.isEmpty():\n",
    "            return None\n",
    "        elif i>=0 and i<self.size:\n",
    "            j=0\n",
    "            curNode=self.head\n",
    "            while j!=i:\n",
    "                j+=1\n",
    "                curNode=curNode.next\n",
    "        else:\n",
    "            return None\n",
    "        return curNode.data\n",
    "    \n",
    "    def set_item(self,i,item):\n",
    "        if self.isEmpty():\n",
    "            return None\n",
    "        elif i>=0 and i<self.size:\n",
    "            j=0\n",
    "            curNode=self.head\n",
    "            while j!=i:\n",
    "                j+=1\n",
    "                curNode=curNode.next\n",
    "            curNode.data=item\n",
    "            return item\n",
    "        else:\n",
    "            return None\n",
    "\n",
    "    # Metode lainnya (traversal, search, remove, dll.) tidak diubah dan tetap sama dengan yang telah Anda tulis sebelumnya.\n",
    "\n",
    "    # Brute Force\n",
    "    def print_reverse_brute_force(self):\n",
    "        data = []\n",
    "        curNode = self.head\n",
    "        while curNode is not None:\n",
    "            data.append(curNode.data)\n",
    "            curNode = curNode.next\n",
    "        \n",
    "        # Mencetak isi data dalam urutan terbalik\n",
    "        for i in range(len(data) - 1, -1, -1):\n",
    "            print(data[i])\n",
    "    \n",
    "    # Stack\n",
    "    def print_reverse_stack(self):\n",
    "        stack = []\n",
    "        curNode = self.head\n",
    "        while curNode is not None:\n",
    "            stack.append(curNode.data)\n",
    "            curNode = curNode.next\n",
    "        \n",
    "        # Mencetak isi stack (data) dalam urutan terbalik\n",
    "        while stack:\n",
    "            print(stack.pop())\n",
    "            \n",
    "    # Recursion    \n",
    "    def print_reverse_recursion(self, node):\n",
    "        if node is None:\n",
    "            return\n",
    "        self.print_reverse_recursion(node.next)\n",
    "        print(node.data)\n",
    "    \n",
    "    def print_reverse_recursion_caller(self):\n",
    "        # Pemanggilan awal untuk rekursi\n",
    "        self.print_reverse_recursion(self.head)"
   ]
  },
  {
   "cell_type": "code",
   "execution_count": 43,
   "id": "a86a433b",
   "metadata": {},
   "outputs": [
    {
     "data": {
      "text/plain": [
       "True"
      ]
     },
     "execution_count": 43,
     "metadata": {},
     "output_type": "execute_result"
    }
   ],
   "source": [
    "sll = SinglyLinkedList()\n",
    "sll.isEmpty()"
   ]
  },
  {
   "cell_type": "code",
   "execution_count": 44,
   "id": "1d1bfea2",
   "metadata": {},
   "outputs": [],
   "source": [
    "sll.prepend(13)\n",
    "sll.prepend(23)\n",
    "sll.prepend(33)\n",
    "sll.prepend(43)"
   ]
  },
  {
   "cell_type": "code",
   "execution_count": 45,
   "id": "696bb8da",
   "metadata": {},
   "outputs": [
    {
     "name": "stdout",
     "output_type": "stream",
     "text": [
      "43\n",
      "33\n",
      "23\n",
      "13\n"
     ]
    }
   ],
   "source": [
    "sll.traversal()"
   ]
  },
  {
   "cell_type": "code",
   "execution_count": 46,
   "id": "b749cb64",
   "metadata": {},
   "outputs": [
    {
     "name": "stdout",
     "output_type": "stream",
     "text": [
      "Brute Force:\n",
      "13\n",
      "23\n",
      "33\n",
      "43\n"
     ]
    }
   ],
   "source": [
    "print(\"Brute Force:\")\n",
    "sll.print_reverse_brute_force()"
   ]
  },
  {
   "cell_type": "code",
   "execution_count": 47,
   "id": "e8ce59b2",
   "metadata": {},
   "outputs": [
    {
     "name": "stdout",
     "output_type": "stream",
     "text": [
      "Stack:\n",
      "13\n",
      "23\n",
      "33\n",
      "43\n"
     ]
    }
   ],
   "source": [
    "print(\"Stack:\")\n",
    "sll.print_reverse_stack()"
   ]
  },
  {
   "cell_type": "code",
   "execution_count": 48,
   "id": "10a99215",
   "metadata": {},
   "outputs": [
    {
     "name": "stdout",
     "output_type": "stream",
     "text": [
      "Recursion:\n",
      "13\n",
      "23\n",
      "33\n",
      "43\n"
     ]
    }
   ],
   "source": [
    "print(\"Recursion:\")\n",
    "sll.print_reverse_recursion_caller()"
   ]
  }
 ],
 "metadata": {
  "kernelspec": {
   "display_name": "Python 3 (ipykernel)",
   "language": "python",
   "name": "python3"
  },
  "language_info": {
   "codemirror_mode": {
    "name": "ipython",
    "version": 3
   },
   "file_extension": ".py",
   "mimetype": "text/x-python",
   "name": "python",
   "nbconvert_exporter": "python",
   "pygments_lexer": "ipython3",
   "version": "3.11.5"
  }
 },
 "nbformat": 4,
 "nbformat_minor": 5
}
